{
 "cells": [
  {
   "cell_type": "markdown",
   "metadata": {},
   "source": [
    "# The effect of Google trends on actual unemployment\n",
    "**Members of the group:**\n",
    "* [Bob Kruithof](https://github.com/BobKruithof) (864015 / U1257965)\n",
    "* [Muriël Verbeek](https://github.com/MurielVerbeek) (422847 / U1244083) \n",
    "* [Manon Waals](https://github.com/ManonWaals) (402655 / U1257694)"
   ]
  },
  {
   "cell_type": "markdown",
   "metadata": {},
   "source": [
    "<a id='research question'></a>\n",
    "## Research question\n",
    "Can we predict the unemployment rate in the Netherlands using data from Google trends?"
   ]
  },
  {
   "cell_type": "markdown",
   "metadata": {},
   "source": [
    "<a id='motivation'></a>\n",
    "## Motivation\n",
    "This research is inspired by the paper ['Detecting influenza epidemics using search engine query data' by Ginsberg et Al. (2009)](http://www.nature.com/nature/journal/v457/n7232/abs/nature07634.html). In this study they show they can estimate the level of influenza by looking at the online searching behavior of people. Online searching behavior in this case is that when people feel sick, they look on the internet for their symptoms. By looking at online search behavior, influenza can be detected early and its impact can be reduced. \n",
    "In our research we want to take a look at another important problem of the present day and try to help to solve it using searching behavior. We will investigate whehter we can predict the real unemployment rate in the Netherlands by using Google trends. We hope that the online searching behavior of people, like in the case of influenza, will help reduce the unemployment rate. Google trends data is available the moment it is being produced, while unemployment data often is announced with a certain lag. Thus, suppose that according to the Google trends data the unemployment rate has risen in this period, it might be usefull for policymakers to adapt a certain policy battling the unemployment. This policy can be adapted sooner than normal due to the use of Google trends. In our research we use Google trends to obtain data on the searching behavior of people. We look at the Google trends for words such as 'niewe baan' ('new job') and uwv (which is an institution that helps unemployed people in the Netherlands to find a job).  \n",
    "\n",
    "This study begins with a short summary of the and [method](#method) the answer to the [research question](#research question). Then we will give a more detailed explanation about the [main assumptions](#main assumptions) and the [data](#data) we used. This is followed by the [results](#results). We will end this study with a [conclusion](#conclusion) and [discussion](#discussion)."
   ]
  },
  {
   "cell_type": "markdown",
   "metadata": {},
   "source": [
    "<a id='method'></a>\n",
    "## Method\n",
    "In this assignment we were able to find [data](#data) about both the unemployment rate in the Netherlands as well as data from Google trends. For the unemployment rate we gathered data from [Statistics Netherlands (CBS)](http://statline.cbs.nl/Statweb/publication/?DM=SLNL&PA=80590ned&D1=10,12,14&D2=0&D3=0&D4=91-102,104-115,117-128,130-141,143-154,156-167,169-180&HDR=T&STB=G1,G2,G3&VW=T)). For the Google trends we decided to pick 6 words that we think are related with either unemployment or finding a new job. After acquiring the data we calculated an average index of the 6 words we picked. All words got an equal weight. After plotting the average index we made a graph with both the unemployment rate and the index. To find whether we can predict the unemployment rate in the Netherlands using data from Google trends, we plot the data from both the unemployment rate and the Google trends to see whether the data has a comparable trend. Then we try to figure out whether we are able to not only compare the historic trends, but also see if we can use the historic data to predict the future. We do this by regressing the Google trends on the unemployment and using these coefficients to predict the future."
   ]
  },
  {
   "cell_type": "markdown",
   "metadata": {},
   "source": [
    "## Answer\n",
    "We are indeed able to predict the unemployment rate in the Netherlands using data from Google trends when looking at the short term future. This could be usefull when unemployment data has a delay that is greater than Google trends, which is likely.\n"
   ]
  },
  {
   "cell_type": "markdown",
   "metadata": {},
   "source": [
    "## Importing packages and libraries\n",
    "We used the following packages to run the model:\n"
   ]
  },
  {
   "cell_type": "code",
   "execution_count": 1,
   "metadata": {
    "collapsed": true
   },
   "outputs": [],
   "source": [
    "import pandas as pd       #importing the necessary packages\n",
    "import plotly.plotly as py\n",
    "from plotly.graph_objs import *\n",
    "import plotly.graph_objs as go\n",
    "import plotly.tools as tls\n",
    "import numpy as np\n",
    "import matplotlib.pyplot as plt\n",
    "import statsmodels.formula.api as smf"
   ]
  },
  {
   "cell_type": "markdown",
   "metadata": {},
   "source": [
    "<a id='main assumptions'></a>\n",
    "## Main assumptions\n",
    "* We assume that the words we pick from Google trends are the most important words people search for.\n",
    "* We assume that people who search those words on Google, are people who are unemployed or about to become unemployed.\n"
   ]
  },
  {
   "cell_type": "markdown",
   "metadata": {},
   "source": [
    "<a id='data'></a>\n",
    "## Data\n",
    "To answer the research question we use data from two different sources.\n",
    "\n",
    "**Unemployment rate**  \n",
    "First of all we used data about the unemployment rate. This data is gathered from [Statistics Netherlands (CBS)](http://statline.cbs.nl/Statweb/publication/?DM=SLNL&PA=80590ned&D1=10,12,14&D2=0&D3=0&D4=91-102,104-115,117-128,130-141,143-154,156-167,169-180&HDR=T&STB=G1,G2,G3&VW=T). We decided to look at the data from 2010 to 2015 and looked at the unemployment rate on a monthly basis. The unemployment rate we took is not corrected for seasonal unemployment as the [Google Trends](https://www.google.nl/trends/) data is also not corrected for seasonal fluctuations."
   ]
  },
  {
   "cell_type": "code",
   "execution_count": 4,
   "metadata": {
    "collapsed": false
   },
   "outputs": [],
   "source": [
    "df = pd.read_excel(\"Python_variables(1).xlsx\", header = 0)                      #loading our different data sets\n",
    "df1 = pd.read_excel(\"Unemployment CBS(2).xlsx\", \\\n",
    "                 header = 0)\n",
    "df8 = pd.read_excel(\"nieuwewoorden.xlsx\", \\\n",
    "                 header = 0)\n",
    "df11 = pd.read_excel(\"werkloosheidnieuw.xlsx\", \\\n",
    "                 header = 0)"
   ]
  },
  {
   "cell_type": "markdown",
   "metadata": {},
   "source": [
    "After some work with the data:"
   ]
  },
  {
   "cell_type": "code",
   "execution_count": 5,
   "metadata": {
    "collapsed": false
   },
   "outputs": [],
   "source": [
    "werkloosheid= df1.ix[:, 0]   #Separating the different variables. \n",
    "werkloosheidindex = df1.ix[:,1]\n",
    "nieuwebaan = df.ix[:,1]\n",
    "CV = df.ix[:,2]\n",
    "vacatures = df.ix[:,3]\n",
    "uwv = df.ix[:,4]\n",
    "uitkering = df.ix[:,5] \n",
    "werkloos =  df.ix[:,6]\n",
    "month = [\"2010-01\", \"2010-02\", \"2010-03\", \"2010-04\", \"2010-05\", \"2010-06\", \"2010-07\", \"2010-08\", \"2010-09\", \"2010-10\", \"2010-11\", \"2010-12\", \"2011-01\", \"2011-02\", \"2011-03\", \"2011-04\", \"2011-05\", \"2011-06\", \"2011-07\", \"2011-08\", \"2011-09\", \"2011-10\", \"2011-11\", \"2011-12\", \"2012-01\", \"2012-02\", \"2012-03\", \"2012-04\", \"2012-05\", \"2012-06\", \"2012-07\", \"2012-08\", \"2012-09\", \"2012-10\", \"2012-11\", \"2012-12\", \"2013-01\", \"2013-02\", \"2013-03\", \"2013-04\", \"2013-05\", \"2013-06\", \"2013-07\", \"2013-08\", \"2013-09\", \"2013-10\", \"2013-11\", \"2013-12\", \"2014-01\", \"2014-02\", \"2014-03\", \"2014-04\", \"2014-05\", \"2014-06\", \"2014-07\", \"2014-08\", \"2014-09\", \"2014-10\", \"2014-11\", \"2014-12\", \"2015-01\", \"2015-02\", \"2015-03\", \"2015-04\", \"2015-05\", \"2015-06\", \"2015-07\", \"2015-08\", \"2015-09\", \"2015-10\", \"2015-11\", \"2015-12\", \"2016-01\", \"2016-02\", \"2016-03\", \"2016-04\", \"2016-05\", \"2016-06\"]     #creating a variable for date "
   ]
  },
  {
   "cell_type": "markdown",
   "metadata": {},
   "source": [
    "The unemployment data can be shown in a nice plot:"
   ]
  },
  {
   "cell_type": "code",
   "execution_count": 8,
   "metadata": {
    "collapsed": false,
    "scrolled": true
   },
   "outputs": [
    {
     "name": "stdout",
     "output_type": "stream",
     "text": [
      "High five! You successfuly sent some data to your account on plotly. View your plot in your browser at https://plot.ly/~Muriel3/0 or inside your plot.ly account where it is named 'Plot'\n"
     ]
    },
    {
     "data": {
      "text/html": [
       "<iframe id=\"igraph\" scrolling=\"no\" style=\"border:none;\" seamless=\"seamless\" src=\"https://plot.ly/~Muriel3/0.embed\" height=\"525px\" width=\"1000px\"></iframe>"
      ],
      "text/plain": [
       "<plotly.tools.PlotlyDisplay object>"
      ]
     },
     "execution_count": 8,
     "metadata": {},
     "output_type": "execute_result"
    }
   ],
   "source": [
    "trace = Scatter(x=month, y=werkloosheid, mode= 'lines', name = 'Unemployment-rate')\n",
    "layout1= Layout(title='Unemployment-rate', xaxis=dict(title='Date', autorange=True), yaxis=dict(title='Unemployment-rate',  autorange=True), autosize=False, width=1000)\n",
    "data1= [trace]\n",
    "fig=Figure(data=data1, layout=layout1)\n",
    "py.iplot(fig, filename='Plot')         #Plotting the unemployment rate."
   ]
  },
  {
   "cell_type": "markdown",
   "metadata": {
    "collapsed": false
   },
   "source": [
    "**Google Trends**  \n",
    "The other source we use is [Google Trends](https://www.google.nl/trends/). We use index numbers for the amount of searches for specific words, that we think people will search for when they are unemployed. We have chosen 6 words, some of them indicate searches for unemployment benefits and others indicate searches for a new job. We decided to use the following words: 'nieuwe baan' ('new job'), 'CV' ('resume'), 'vacatures' ('vacancies'), 'uwv' (an institution that helps unemployed people in the Netherlands to find a job), 'uitkering' ('social security') and 'werkloos' ('unemployed'). For all words, we checked whether they could be associated with something different than unemployment. We found that this was only the case for 'CV' as people searching for this term also sometimes meant to search for boilers which are CV ketels in Dutch. To make sure that we only used the data of people that were searching for resume, we specified the 'CV' Google trend to the category 'vacancies and education'. As for the unemployment rate we looked at the data from 2010 to 2015 in the Netherlands.\n",
    "Looking at all the trends of the words we used, we get a graph as follows:"
   ]
  },
  {
   "cell_type": "code",
   "execution_count": 9,
   "metadata": {
    "collapsed": false
   },
   "outputs": [
    {
     "data": {
      "text/html": [
       "<iframe id=\"igraph\" scrolling=\"no\" style=\"border:none;\" seamless=\"seamless\" src=\"https://plot.ly/~Muriel3/2.embed\" height=\"525px\" width=\"1000px\"></iframe>"
      ],
      "text/plain": [
       "<plotly.tools.PlotlyDisplay object>"
      ]
     },
     "execution_count": 9,
     "metadata": {},
     "output_type": "execute_result"
    }
   ],
   "source": [
    "trace0 = Scatter(x=month, y=werkloosheidindex, mode= 'lines', name = 'Unemployment-indexnumber')    #Creating the different lines\n",
    "trace1 = Scatter(x=month, y=nieuwebaan, mode= 'lines', name = 'nieuwe baan')\n",
    "trace2 = Scatter(x=month, y=CV, mode= 'lines', name = 'CV')\n",
    "trace3 = Scatter(x=month, y=vacatures, mode= 'lines', name = 'vacatures')\n",
    "trace4 = Scatter(x=month, y=uwv, mode= 'lines', name = 'uwv')\n",
    "trace5 = Scatter(x=month, y=uitkering, mode= 'lines', name = 'uitkering')\n",
    "trace6 = Scatter(x=month, y=werkloos, mode= 'lines', name = 'werkloos')\n",
    "layout= Layout(title='Index', xaxis=dict(title='Date', autorange=True), yaxis=dict(title='Index',  autorange=True), autosize=False, width=1000)\n",
    "data= [trace0, trace1, trace2, trace3, trace4, trace5, trace6] \n",
    "fig1=Figure(data=data, layout=layout)\n",
    "py.iplot(fig1, filename='Plot1') #Plotting the graph"
   ]
  },
  {
   "cell_type": "markdown",
   "metadata": {
    "collapsed": false
   },
   "source": [
    "To give a better overview of the trend of a word and the unemployment, we show a graph of just one trend line and the unemployment: "
   ]
  },
  {
   "cell_type": "code",
   "execution_count": 10,
   "metadata": {
    "collapsed": false
   },
   "outputs": [
    {
     "data": {
      "text/html": [
       "<iframe id=\"igraph\" scrolling=\"no\" style=\"border:none;\" seamless=\"seamless\" src=\"https://plot.ly/~Muriel3/4.embed\" height=\"525px\" width=\"1000px\"></iframe>"
      ],
      "text/plain": [
       "<plotly.tools.PlotlyDisplay object>"
      ]
     },
     "execution_count": 10,
     "metadata": {},
     "output_type": "execute_result"
    }
   ],
   "source": [
    "data2= [trace0, trace1]   \n",
    "layout2= Layout(title='Index', xaxis=dict(title='Date', autorange=True), yaxis=dict(title='Index',  autorange=True), autosize=False, width=1000)\n",
    "fig2=Figure(data=data2, layout=layout2)\n",
    "py.iplot(fig2, filename='Plot2') #Plotting the indices"
   ]
  },
  {
   "cell_type": "markdown",
   "metadata": {
    "collapsed": false,
    "scrolled": true
   },
   "source": [
    "<a id='results'></a>\n",
    "## Results\n",
    "If we simply average the trends of all the searchwords we get the following trend:"
   ]
  },
  {
   "cell_type": "code",
   "execution_count": 11,
   "metadata": {
    "collapsed": false
   },
   "outputs": [
    {
     "data": {
      "text/html": [
       "<iframe id=\"igraph\" scrolling=\"no\" style=\"border:none;\" seamless=\"seamless\" src=\"https://plot.ly/~Muriel3/6.embed\" height=\"525px\" width=\"1000px\"></iframe>"
      ],
      "text/plain": [
       "<plotly.tools.PlotlyDisplay object>"
      ]
     },
     "execution_count": 11,
     "metadata": {},
     "output_type": "execute_result"
    }
   ],
   "source": [
    "df['Mean']=df.mean(axis=1)   #Taking the average of the different trends\n",
    "index =  df.ix[:,7]          #Separating the average from the other variables\n",
    "trace7 = Scatter(x=month, y=index, mode= 'lines', name = 'Average trend of all Google searchwords')   \n",
    "data3= [trace0, trace7]      #Plotting the graph\n",
    "layout3= Layout(title='Index', xaxis=dict(title='Date', autorange=True), yaxis=dict(title='Index',  autorange=True), autosize=False, width=1000)\n",
    "fig3=Figure(data=data3, layout=layout3)\n",
    "py.iplot(fig3, filename='Plot3') #Plotting the graph"
   ]
  },
  {
   "cell_type": "markdown",
   "metadata": {
    "collapsed": false
   },
   "source": [
    "It is visible that the two lines have similar trends, however a simply averaging of the searchword indices is not sufficient to predict the unemployment in the future."
   ]
  },
  {
   "cell_type": "markdown",
   "metadata": {
    "collapsed": false
   },
   "source": [
    "We regress the searchword indices to get a correlation between the searchwords and the unemployment:"
   ]
  },
  {
   "cell_type": "code",
   "execution_count": 12,
   "metadata": {
    "collapsed": false
   },
   "outputs": [],
   "source": [
    "df3 = pd.concat([df, werkloosheidindex], axis=1)         #Combining the Google searchword with the index\n",
    "df4= pd.concat([df3, werkloosheid], axis=1)              #Combining the Google searchword and the index with the unemployment rate\n",
    "lm = smf.ols(formula='werkloosheid ~ uitkering + CV + werkloos + uwv + nieuwebaan + vacatures', data=df3).fit()   #Creating a OLS regression model"
   ]
  },
  {
   "cell_type": "markdown",
   "metadata": {
    "collapsed": false
   },
   "source": [
    "And get the following coefficients:"
   ]
  },
  {
   "cell_type": "code",
   "execution_count": 13,
   "metadata": {
    "collapsed": false
   },
   "outputs": [
    {
     "data": {
      "text/plain": [
       "Intercept     0.741490\n",
       "uitkering     0.018312\n",
       "CV           -0.002288\n",
       "werkloos      0.019899\n",
       "uwv           0.043214\n",
       "nieuwebaan   -0.004556\n",
       "vacatures    -0.001014\n",
       "dtype: float64"
      ]
     },
     "execution_count": 13,
     "metadata": {},
     "output_type": "execute_result"
    }
   ],
   "source": [
    "lm.params    #Showing the regression coefficients:"
   ]
  },
  {
   "cell_type": "markdown",
   "metadata": {
    "collapsed": false
   },
   "source": [
    "We can now use these coefficients to try and predict unemployment values using only the searchwords trends. For example:"
   ]
  },
  {
   "cell_type": "code",
   "execution_count": 14,
   "metadata": {
    "collapsed": false,
    "scrolled": true
   },
   "outputs": [
    {
     "data": {
      "text/plain": [
       "array([ 5.21885421])"
      ]
     },
     "execution_count": 14,
     "metadata": {},
     "output_type": "execute_result"
    }
   ],
   "source": [
    "X_new = pd.DataFrame({'uitkering': [81],'CV': [91],'werkloos':[66],'uwv':[51],'nieuwebaan': [50],'vacatures': [86]}) #Creating a new dataframe with fixed values for the Google searchwords  \n",
    "preds = lm.predict(X_new)    #Here we combine the fixed values with the coefficients\n",
    "preds"
   ]
  },
  {
   "cell_type": "markdown",
   "metadata": {
    "collapsed": false
   },
   "source": [
    "For January 2010 the prediction thus is that the unemployment is 5.21885421. The actual unemployment is 5.2. The prediction thus is not far from the reality. This can useful since Google trends data is available the moment it is being produced, while unemployment data often is announced with a certain lag. Thus, suppose that according to the Google trends data the unemployment has risen in this period, it might be useful for policymakers to adapt a certain policy battling the unemployment. This policy can be adapted sooner than normal due to the use of Google trends."
   ]
  },
  {
   "cell_type": "markdown",
   "metadata": {
    "collapsed": true
   },
   "source": [
    "To get a better overview of the correlation between the searchwords and the unemployment we graph the actual unemployment and the \"predicted\" unemployment. First we make a new variable that uses the coefficients to calculate the correlation of each word for every datapoint in our dataset."
   ]
  },
  {
   "cell_type": "code",
   "execution_count": 15,
   "metadata": {
    "collapsed": false
   },
   "outputs": [],
   "source": [
    "nieuwebaan1 = (nieuwebaan*-0.004556)+0.741490    #Here we combine the coefficients with every datapoint in our dataset.\n",
    "uitkering1 = uitkering*0.018312\n",
    "CV1= CV*-0.002288\n",
    "werkloos1=werkloos*0.019899\n",
    "uwv1=uwv*0.043214\n",
    "vacatures1=vacatures*-0.001014\n",
    "df5= pd.concat([nieuwebaan1, uitkering1, CV1, werkloos1, uwv1, vacatures1], axis=1)   #We combine them in one dataframe, for later use\n",
    "df6= CV1 + uitkering1 + nieuwebaan1 + vacatures1 + werkloos1 + uwv1    #Here we add the result of the coefficient X searchword trends in one number, which shows the predicted value of the unemployment\n",
    "df7= pd.concat([df6, werkloosheid], axis=1)   #Combining the actual unemployment with the predicted"
   ]
  },
  {
   "cell_type": "markdown",
   "metadata": {
    "collapsed": false
   },
   "source": [
    "We then combine these two datasets into a graph that shows the \"predicted\" unemployment rate and the actual unemployment rate:"
   ]
  },
  {
   "cell_type": "code",
   "execution_count": 16,
   "metadata": {
    "collapsed": false
   },
   "outputs": [
    {
     "data": {
      "text/html": [
       "<iframe id=\"igraph\" scrolling=\"no\" style=\"border:none;\" seamless=\"seamless\" src=\"https://plot.ly/~Muriel3/8.embed\" height=\"525px\" width=\"1000px\"></iframe>"
      ],
      "text/plain": [
       "<plotly.tools.PlotlyDisplay object>"
      ]
     },
     "execution_count": 16,
     "metadata": {},
     "output_type": "execute_result"
    }
   ],
   "source": [
    "trace8 = Scatter(x=month, y=werkloosheid, mode= 'lines', name = 'Unemployment-rate')\n",
    "trace9 = Scatter(x=month, y=df6, mode= 'lines', name = 'Predicted unemployment-rate')\n",
    "data4= [trace8, trace9]\n",
    "layout4= Layout(title='Index', xaxis=dict(title='Date', autorange=True), yaxis=dict(title='Index',  autorange=True), autosize=False, width=1000)\n",
    "fig4=Figure(data=data4, layout=layout4)\n",
    "py.iplot(fig4, filename='Plot4') #Plotting the actual unemployment with the predicted according to the regression coefficients"
   ]
  },
  {
   "cell_type": "markdown",
   "metadata": {
    "collapsed": false,
    "scrolled": true
   },
   "source": [
    "We will now go more into depth how this can be useful. We first rewrite some of the data:"
   ]
  },
  {
   "cell_type": "code",
   "execution_count": 17,
   "metadata": {
    "collapsed": false
   },
   "outputs": [],
   "source": [
    "df9 =  df8.drop(df8.index[[0,1,2,3,4,5,6,7,8,9,10,11,12,13,14,15,16,17,18,19,20,21,22,23,24,25,26,27,28,29,30,31,32,33,34,35,36,37,38,39,40,41,42,43,44,45,46,47,48,49,50,51,52,53,54,55,56,57,58,59,60,61,62,63,64,65,66,67,68,69,70,71,72,73,74,75,76,77]])      #Dropping unnecessary datapoints, leaving us with datapoints we do not have in the previous graph\n",
    "nieuwebaan2 = df9.ix[:,2]          #Here we repeat the same procedure as before the create our prediction for the new data.\n",
    "CV2 = df9.ix[:,1]\n",
    "vacatures2 = df9.ix[:,4]\n",
    "uwv2 = df9.ix[:,0]\n",
    "uitkering2 = df9.ix[:,5] \n",
    "werkloos2 =  df9.ix[:,3]\n",
    "nieuwebaan3 = (nieuwebaan2*-0.004556)+0.741490\n",
    "uitkering3 = uitkering2*0.018312\n",
    "CV3= CV2*-0.002288\n",
    "werkloos3=werkloos2*0.019899\n",
    "uwv3=uwv2*0.043214\n",
    "vacatures3=vacatures2*-0.001014\n",
    "df10= CV3 + uitkering3 + nieuwebaan3 + vacatures3 + werkloos3 + uwv3\n",
    "werkloosheidnieuw= df11.werkloosheidnieuw"
   ]
  },
  {
   "cell_type": "markdown",
   "metadata": {
    "collapsed": false,
    "scrolled": true
   },
   "source": [
    "Then, we can combine the previous graph with two additional parts:"
   ]
  },
  {
   "cell_type": "code",
   "execution_count": 18,
   "metadata": {
    "collapsed": false,
    "scrolled": true
   },
   "outputs": [
    {
     "data": {
      "text/html": [
       "<iframe id=\"igraph\" scrolling=\"no\" style=\"border:none;\" seamless=\"seamless\" src=\"https://plot.ly/~Muriel3/10.embed\" height=\"525px\" width=\"1000px\"></iframe>"
      ],
      "text/plain": [
       "<plotly.tools.PlotlyDisplay object>"
      ]
     },
     "execution_count": 18,
     "metadata": {},
     "output_type": "execute_result"
    }
   ],
   "source": [
    "trace10 = Scatter(x=[\"2016-07\", \"2016-08\", \"2016-09\", \"2016-10\", \"2016-11\", \"2016-12\"] , y=df10, mode= 'line', name = 'Predicted unemployment-rate ')\n",
    "trace11 = Scatter(x=[\"2016-07\", \"2016-08\", \"2016-09\", \"2016-10\", \"2016-11\", \"2016-12\"], y=werkloosheidnieuw, mode= 'line', name = 'Unemployment-rate actual')\n",
    "data5= [trace8, trace9, trace10, trace11]\n",
    "layout5= Layout(title='Index', xaxis=dict(title='Date', autorange=True), yaxis=dict(title='Index',  autorange=True), autosize=False, width=1000)\n",
    "fig5=Figure(data=data5, layout=layout5)\n",
    "py.iplot(fig5, filename='Plot5')  #Here we plot the previous graph with the addition of the prediction of the new data and the actual new unemployment."
   ]
  },
  {
   "cell_type": "markdown",
   "metadata": {
    "collapsed": false
   },
   "source": [
    "To interpret this, we should think of the following: suppose in an extreme situation the unemployment changes are only known half a year after they have happened. The predictions of Google trends then could be used during that half year in which the actual data is not available to give policymakers an opportunity to adapt their policies to the unemployment if necessary. "
   ]
  },
  {
   "cell_type": "markdown",
   "metadata": {
    "collapsed": true
   },
   "source": [
    "## Conclusion\n",
    "<a id='conclusion'></a>\n",
    "As showed in the results, it is indeed possible to use Google trends to obtain information on the future unemployment rate earlier than when using the data on the unemployment rate from the CBS. So we are indeed able to predict the unemployment rate in the Netherlands using data from Google trends. However, this is a very short term prediction of only a couple of weeks."
   ]
  },
  {
   "cell_type": "markdown",
   "metadata": {
    "collapsed": false,
    "scrolled": true
   },
   "source": [
    "## Discussion\n",
    "<a id='discussion'></a>\n",
    "### Fluctuation\n",
    "Google trends fluctuate much and because of this our Google trends index has much more peaks and dips than the unemployment rate. We believe this is because unemployment rates are much less easily to change than the amount of people looking at specific topics on Google, so the Google trends data is much more volatile than the unemployment rate. It would be beneficial to our research if we would be able to smooth the data that we obtained from Google trends in order to make it easier to compare it with the unemployment rates.\n",
    "\n",
    "### Search patterns\n",
    "The use of Google trends also comes with a negative side. It could be that instead of solely people who are unemployed or on the verge of becoming unemployed, people who are suddenly interested in the topic search for 'uitkering' for example. This could be due to some popular polician mentioning something about this topic. This could spike the Google trends, and thus spike the predicted unemployment but may have no effect on the actual unemployment.\n",
    "\n",
    "### Policy advice\n",
    "We would advise policy makers to use Google trends to be able to react to changes in the unemployment rate more quickly.\n",
    "\n",
    "### Future research\n",
    "It would be even more beneficial to policymakers to be able to actually predict the unemployment in the coming period with the Google trends of today. However, due to our time constraint we were not able to implement a model that is able to predict the future unemployment with current trends. One option to do this would be to make use of the program Scikit. This would be interesting for future research."
   ]
  }
 ],
 "metadata": {
  "anaconda-cloud": {},
  "kernelspec": {
   "display_name": "Python [Root]",
   "language": "python",
   "name": "Python [Root]"
  },
  "language_info": {
   "codemirror_mode": {
    "name": "ipython",
    "version": 3
   },
   "file_extension": ".py",
   "mimetype": "text/x-python",
   "name": "python",
   "nbconvert_exporter": "python",
   "pygments_lexer": "ipython3",
   "version": "3.5.2"
  }
 },
 "nbformat": 4,
 "nbformat_minor": 1
}
