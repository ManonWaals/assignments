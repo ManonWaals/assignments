{
 "cells": [
  {
   "cell_type": "markdown",
   "metadata": {},
   "source": []
  },
  {
   "cell_type": "markdown",
   "metadata": {},
   "source": [
    "# The effect of Google trends on actual unemployment\n",
    "**Members of the group:**\n",
    "* [Bob Kruithof](https://github.com/BobKruithof) (864015 / U1257965)\n",
    "* [Muriël Verbeek](https://github.com/MurielVerbeek) (422847 / U1244083) \n",
    "* [Manon Waals](https://github.com/ManonWaals) (402655 / U1257694)\n",
    "\n",
    "## Research question\n",
    "Can we predict the unemployment rate in the Netherlands using data from Google trends?"
   ]
  },
  {
   "cell_type": "markdown",
   "metadata": {},
   "source": [
    "## Motivation"
   ]
  },
  {
   "cell_type": "markdown",
   "metadata": {},
   "source": [
    "## Method"
   ]
  },
  {
   "cell_type": "markdown",
   "metadata": {},
   "source": [
    "## Answer"
   ]
  },
  {
   "cell_type": "markdown",
   "metadata": {},
   "source": [
    "## Importing packages and libraries\n",
    "We used the following packages to run the model:\n"
   ]
  },
  {
   "cell_type": "code",
   "execution_count": 139,
   "metadata": {
    "collapsed": true
   },
   "outputs": [],
   "source": [
    "import pandas as pd\n",
    "import plotly.plotly as py\n",
    "from plotly.graph_objs import *\n",
    "import plotly.tools as tls\n",
    "import numpy as np\n",
    "import matplotlib.pyplot as plt\n",
    "import statsmodels.formula.api as smf"
   ]
  },
  {
   "cell_type": "markdown",
   "metadata": {},
   "source": [
    "##Main assumptions\n",
    "* We assume that the words we pick from Google trends are the most important words people search for.\n",
    "* We assume that all words we pick are equally important and therefore get the same weight.\n",
    "* We use the unemployment rate in the Netherlands which is adjusted for seasonal effects. We think that people who work only one season won't search for the words we pick."
   ]
  },
  {
   "cell_type": "markdown",
   "metadata": {},
   "source": [
    "## Data\n",
    "**Unemployment rate**  \n",
    "First of all we used data about the unemployment rate. This data is gathered from [Statistics Netherlands (CBS)](http://statline.cbs.nl/Statweb/publication/?DM=SLNL&PA=80590ned&D1=10,12,14&D2=0&D3=0&D4=91-102,104-115,117-128,130-141,143-154,156-167,169-180&HDR=T&STB=G1,G2,G3&VW=T). We decided to look at the data from 2010 to 2015 and looked at the unemployment rate on a monthly basis. The unemployment rate we took is not corrected for seasonal unemployment as the Google trends data is also not corrected for seasonal fluctuations.\n"
   ]
  },
  {
   "cell_type": "code",
   "execution_count": null,
   "metadata": {
    "collapsed": true
   },
   "outputs": [],
   "source": [
    "df = pd.read_excel(\"Python_variables(1).xlsx\", \\\n",
    "                 header = 0)\n",
    "df1 = pd.read_excel(\"Unemployment CBS(2).xlsx\", \\\n",
    "                 header = 0)\n",
    "df8 = pd.read_excel(\"nieuwewoorden.xlsx\", \\\n",
    "                 header = 0)\n",
    "df11 = pd.read_excel(\"werkloosheidnieuw.xlsx\", \\\n",
    "                 header = 0)"
   ]
  },
  {
   "cell_type": "markdown",
   "metadata": {},
   "source": [
    "After some work with the data:"
   ]
  },
  {
   "cell_type": "code",
   "execution_count": 178,
   "metadata": {
    "collapsed": false
   },
   "outputs": [],
   "source": [
    "werkloosheid= df1.ix[:, 0]\n",
    "werkloosheidindex = df1.ix[:,1]\n",
    "nieuwebaan = df.ix[:,1]\n",
    "CV = df.ix[:,2]\n",
    "vacatures = df.ix[:,3]\n",
    "uwv = df.ix[:,4]\n",
    "uitkering = df.ix[:,5] \n",
    "werkloos =  df.ix[:,6]"
   ]
  },
  {
   "cell_type": "markdown",
   "metadata": {},
   "source": [
    "The unemploymentdata can be shown in a nice plot:"
   ]
  },
  {
   "cell_type": "code",
   "execution_count": 153,
   "metadata": {
    "collapsed": false
   },
   "outputs": [
    {
     "data": {
      "text/html": [
       "<iframe id=\"igraph\" scrolling=\"no\" style=\"border:none;\" seamless=\"seamless\" src=\"https://plot.ly/~BobKruithof/2.embed\" height=\"525px\" width=\"100%\"></iframe>"
      ],
      "text/plain": [
       "<plotly.tools.PlotlyDisplay object>"
      ]
     },
     "execution_count": 153,
     "metadata": {},
     "output_type": "execute_result"
    }
   ],
   "source": [
    "trace = Scatter(y=werkloosheid, mode= 'lines', name = 'lines')\n",
    "py.iplot([trace], filename='plot')"
   ]
  },
  {
   "cell_type": "markdown",
   "metadata": {
    "collapsed": false
   },
   "source": []
  },
  {
   "cell_type": "markdown",
   "metadata": {
    "collapsed": false
   },
   "source": [
    "**Google Trends**  \n",
    "The other source we used is [Google Trends](https://www.google.nl/trends/). We use index numbers for the amount of searches for specific words, that we think people will search for when they are unemployed. We have choosen 6 words, where some of them indicate search for unemployment benefits and others indicate searches for a new job. We decided to use the following words: 'nieuwe baan' ('new job'), 'CV' ('resume'), 'vacatures' ('vacancies'), 'uwv' (an institution that helps unemployed people in the Netherlands to find a job), 'uitkering' ('social security') and 'werkloos' ('unemployed'). For all words, we checked whether they could be associated with something different than unemployment. We found that this was only the case for 'CV' as people searching for this term also sometimes meant to search for boilers which are CV ketels in Dutch. To make sure that we only used the data of people that were searching for resume, we specified the 'CV' Google trend to the category 'vacancies and education'. As for the unemployment rate we looked at the data from 2010 to 2015 in the Netherlands.\n",
    "Looking at all the trends of the words we used, we get a graph as follows:"
   ]
  },
  {
   "cell_type": "code",
   "execution_count": 161,
   "metadata": {
    "collapsed": false
   },
   "outputs": [
    {
     "data": {
      "text/html": [
       "<iframe id=\"igraph\" scrolling=\"no\" style=\"border:none;\" seamless=\"seamless\" src=\"https://plot.ly/~BobKruithof/4.embed\" height=\"525px\" width=\"100%\"></iframe>"
      ],
      "text/plain": [
       "<plotly.tools.PlotlyDisplay object>"
      ]
     },
     "execution_count": 161,
     "metadata": {},
     "output_type": "execute_result"
    }
   ],
   "source": [
    "trace0 = Scatter(y=werkloosheidindex, mode= 'lines', name = 'werkloosheidindex')\n",
    "trace1 = Scatter(y=nieuwebaan, mode= 'lines', name = 'nieuwe baan')\n",
    "trace2 = Scatter(y=CV, mode= 'lines', name = 'CV')\n",
    "trace3 = Scatter(y=vacatures, mode= 'lines', name = 'vacatures')\n",
    "trace4 = Scatter(y=uwv, mode= 'lines', name = 'uwv')\n",
    "trace5 = Scatter(y=uitkering, mode= 'lines', name = 'uitkering')\n",
    "trace6 = Scatter(y=werkloos, mode= 'lines', name = 'werkloos')\n",
    "data= [trace0, trace1, trace2, trace3, trace4, trace5, trace6]\n",
    "py.iplot(data, filename='Plot2')"
   ]
  },
  {
   "cell_type": "markdown",
   "metadata": {
    "collapsed": false
   },
   "source": [
    "To give a better overview of the trend of a word and the unemployment, we show a graph of just one trendline and the unemployment: "
   ]
  },
  {
   "cell_type": "code",
   "execution_count": 179,
   "metadata": {
    "collapsed": false
   },
   "outputs": [
    {
     "data": {
      "text/html": [
       "<iframe id=\"igraph\" scrolling=\"no\" style=\"border:none;\" seamless=\"seamless\" src=\"https://plot.ly/~BobKruithof/6.embed\" height=\"525px\" width=\"100%\"></iframe>"
      ],
      "text/plain": [
       "<plotly.tools.PlotlyDisplay object>"
      ]
     },
     "execution_count": 179,
     "metadata": {},
     "output_type": "execute_result"
    }
   ],
   "source": [
    "data1= [trace0, trace1]\n",
    "py.iplot(data1, filename='Plot3')"
   ]
  },
  {
   "cell_type": "markdown",
   "metadata": {
    "collapsed": false,
    "scrolled": true
   },
   "source": [
    "##Results\n",
    "If we simply average the trends of all the seachwords we get the following trend:"
   ]
  },
  {
   "cell_type": "code",
   "execution_count": 177,
   "metadata": {
    "collapsed": false
   },
   "outputs": [
    {
     "data": {
      "text/html": [
       "<iframe id=\"igraph\" scrolling=\"no\" style=\"border:none;\" seamless=\"seamless\" src=\"https://plot.ly/~BobKruithof/14.embed\" height=\"525px\" width=\"100%\"></iframe>"
      ],
      "text/plain": [
       "<plotly.tools.PlotlyDisplay object>"
      ]
     },
     "execution_count": 177,
     "metadata": {},
     "output_type": "execute_result"
    }
   ],
   "source": [
    "df['Mean']=df.mean(axis=1)\n",
    "index =  df.ix[:,7]\n",
    "trace7 = Scatter(y=index, mode= 'lines', name = 'Google-index')\n",
    "data3= [trace0, trace7]\n",
    "py.iplot(data3, filename='Plot10')"
   ]
  },
  {
   "cell_type": "markdown",
   "metadata": {
    "collapsed": false
   },
   "source": [
    "It is visible that the two lines have similair trends, however a simply averaging of the searchword indices is not sufficient to predict the unemployment in the future."
   ]
  },
  {
   "cell_type": "markdown",
   "metadata": {
    "collapsed": false
   },
   "source": [
    "We regress the searchword indices to get a correlation between the searchwords and the unemployment:"
   ]
  },
  {
   "cell_type": "code",
   "execution_count": 108,
   "metadata": {
    "collapsed": false
   },
   "outputs": [],
   "source": [
    "df3 = pd.concat([df, percentage], axis=1)\n",
    "df4= pd.concat([df3, werkloosheid], axis=1)\n",
    "lm = smf.ols(formula='werkloosheid ~ uitkering + CV + werkloos + uwv + nieuwebaan + vacatures', data=df3).fit()"
   ]
  },
  {
   "cell_type": "markdown",
   "metadata": {
    "collapsed": false
   },
   "source": [
    "And get the following coefficients:"
   ]
  },
  {
   "cell_type": "code",
   "execution_count": 163,
   "metadata": {
    "collapsed": false
   },
   "outputs": [
    {
     "data": {
      "text/plain": [
       "Intercept     0.741490\n",
       "uitkering     0.018312\n",
       "CV           -0.002288\n",
       "werkloos      0.019899\n",
       "uwv           0.043214\n",
       "nieuwebaan   -0.004556\n",
       "vacatures    -0.001014\n",
       "dtype: float64"
      ]
     },
     "execution_count": 163,
     "metadata": {},
     "output_type": "execute_result"
    }
   ],
   "source": [
    "lm.params"
   ]
  },
  {
   "cell_type": "markdown",
   "metadata": {
    "collapsed": false
   },
   "source": [
    "We can now use these coefficients to try and predict unemployment values using only the searchwords trends. For example:"
   ]
  },
  {
   "cell_type": "code",
   "execution_count": 164,
   "metadata": {
    "collapsed": false,
    "scrolled": true
   },
   "outputs": [
    {
     "data": {
      "text/plain": [
       "array([ 5.21885421])"
      ]
     },
     "execution_count": 164,
     "metadata": {},
     "output_type": "execute_result"
    }
   ],
   "source": [
    "X_new = pd.DataFrame({'uitkering': [81],'CV': [91],'werkloos':[66],'uwv':[51],'nieuwebaan': [50],'vacatures': [86]})\n",
    "preds = lm.predict(X_new)\n",
    "preds"
   ]
  },
  {
   "cell_type": "markdown",
   "metadata": {
    "collapsed": false
   },
   "source": [
    "For January 2010 the prediction thus is that the unemployment is 5.21885421. The actual unemployment is 5.2. The prediction thus is not far from the reality. This can usefull since Google trends data is available the moment it is being produced, while unemployment data often is announced with a certain lag. Thus, suppose that according to the Google trends data the unemployment has risen in this period, it might be usefull for policymakers to adapt a certain policy battling the unemployment. This policy can be adapted sooner than normal due to the use of Google trends."
   ]
  },
  {
   "cell_type": "markdown",
   "metadata": {
    "collapsed": false
   },
   "source": [
    "Prediction with only two words: usefull?"
   ]
  },
  {
   "cell_type": "code",
   "execution_count": 165,
   "metadata": {
    "collapsed": false
   },
   "outputs": [
    {
     "data": {
      "text/plain": [
       "array([ 4.9820557])"
      ]
     },
     "execution_count": 165,
     "metadata": {},
     "output_type": "execute_result"
    }
   ],
   "source": [
    "lm1 = smf.ols(formula='werkloosheid ~ werkloos + uwv ', data=df3).fit()\n",
    "lm1.params\n",
    "X_new = pd.DataFrame({'werkloos': [59],'uwv': [51]})\n",
    "preds = lm1.predict(X_new)\n",
    "preds"
   ]
  },
  {
   "cell_type": "markdown",
   "metadata": {
    "collapsed": true
   },
   "source": [
    "To get a better overview of the correlation between the searchwords and the unemployment we graph the actual unemployment and the \"predicted\" unemployment. First we make a new variable that uses the coefficients to calculate the correlation of each word for every datapoint in our dataset."
   ]
  },
  {
   "cell_type": "code",
   "execution_count": 166,
   "metadata": {
    "collapsed": false
   },
   "outputs": [],
   "source": [
    "nieuwebaan1 = (nieuwebaan*-0.004556)+0.741490\n",
    "uitkering1 = uitkering*0.018312\n",
    "CV1= CV*-0.002288\n",
    "werkloos1=werkloos*0.019899\n",
    "uwv1=uwv*0.043214\n",
    "vacatures1=vacatures*-0.001014\n",
    "df5= pd.concat([nieuwebaan1, uitkering1, CV1, werkloos1, uwv1, vacatures1], axis=1)\n",
    "df6= CV1 + uitkering1 + nieuwebaan1 + vacatures1 + werkloos1 + uwv1\n",
    "df7= pd.concat([df6, werkloosheid], axis=1)"
   ]
  },
  {
   "cell_type": "markdown",
   "metadata": {
    "collapsed": false
   },
   "source": [
    "We then combine these two datasets into a graph that shows the \"predicted\" unemployment rate and the actual unemployment rate:"
   ]
  },
  {
   "cell_type": "code",
   "execution_count": 167,
   "metadata": {
    "collapsed": false
   },
   "outputs": [
    {
     "data": {
      "text/html": [
       "<iframe id=\"igraph\" scrolling=\"no\" style=\"border:none;\" seamless=\"seamless\" src=\"https://plot.ly/~BobKruithof/8.embed\" height=\"525px\" width=\"100%\"></iframe>"
      ],
      "text/plain": [
       "<plotly.tools.PlotlyDisplay object>"
      ]
     },
     "execution_count": 167,
     "metadata": {},
     "output_type": "execute_result"
    }
   ],
   "source": [
    "trace8 = Scatter(y=werkloosheid, mode= 'lines', name = 'werkloosheid')\n",
    "trace9 = Scatter(y=df6, mode= 'lines', name = 'index')\n",
    "data4= [trace8, trace9]\n",
    "py.iplot(data4, filename='Plot4')"
   ]
  },
  {
   "cell_type": "markdown",
   "metadata": {
    "collapsed": false,
    "scrolled": true
   },
   "source": [
    "We will now go more into depth how this can be useful. We first rewrite some of the data:"
   ]
  },
  {
   "cell_type": "code",
   "execution_count": 168,
   "metadata": {
    "collapsed": false
   },
   "outputs": [],
   "source": [
    "df9 =  df8.drop(df8.index[[0,1,2,3,4,5,6,7,8,9,10,11,12,13,14,15,16,17,18,19,20,21,22,23,24,25,26,27,28,29,30,31,32,33,34,35,36,37,38,39,40,41,42,43,44,45,46,47,48,49,50,51,52,53,54,55,56,57,58,59,60,61,62,63,64,65,66,67,68,69,70,71,72,73,74,75,76,77]])\n",
    "nieuwebaan2 = df9.ix[:,2]\n",
    "CV2 = df9.ix[:,1]\n",
    "vacatures2 = df9.ix[:,4]\n",
    "uwv2 = df9.ix[:,0]\n",
    "uitkering2 = df9.ix[:,5] \n",
    "werkloos2 =  df9.ix[:,3]\n",
    "nieuwebaan3 = (nieuwebaan2*-0.004556)+0.741490\n",
    "uitkering3 = uitkering2*0.018312\n",
    "CV3= CV2*-0.002288\n",
    "werkloos3=werkloos2*0.019899\n",
    "uwv3=uwv2*0.043214\n",
    "vacatures3=vacatures2*-0.001014\n",
    "df10= CV3 + uitkering3 + nieuwebaan3 + vacatures3 + werkloos3 + uwv3\n",
    "werkloosheidnieuw= df11.werkloosheidnieuw"
   ]
  },
  {
   "cell_type": "markdown",
   "metadata": {
    "collapsed": false,
    "scrolled": true
   },
   "source": [
    "Then, we can combine the previous graph with two additional parts:"
   ]
  },
  {
   "cell_type": "code",
   "execution_count": 160,
   "metadata": {
    "collapsed": false,
    "scrolled": true
   },
   "outputs": [
    {
     "data": {
      "text/html": [
       "<iframe id=\"igraph\" scrolling=\"no\" style=\"border:none;\" seamless=\"seamless\" src=\"https://plot.ly/~BobKruithof/10.embed\" height=\"525px\" width=\"100%\"></iframe>"
      ],
      "text/plain": [
       "<plotly.tools.PlotlyDisplay object>"
      ]
     },
     "execution_count": 160,
     "metadata": {},
     "output_type": "execute_result"
    }
   ],
   "source": [
    "trace10 = Scatter(x=[78,79,80,81,82,83], y=df10, mode= 'line', name = 'indexpredict')\n",
    "trace11 = Scatter(x=[78,79,80,81,82,83], y=werkloosheidnieuw, mode= 'line', name = 'actual')\n",
    "data5= [trace8, trace9, trace10, trace11]\n",
    "py.iplot(data5, filename='Plot5')"
   ]
  },
  {
   "cell_type": "markdown",
   "metadata": {
    "collapsed": false
   },
   "source": [
    "To interpret this, we should think of the following: suppose in an extreme situation the unemployment changes are announced(?) half a year after the have happened. The predictions of Google trends then could be used during that half year in which the actual data is not available to give policymakers an opportunity to adapt their policies to the unemployment if necessary. "
   ]
  },
  {
   "cell_type": "markdown",
   "metadata": {},
   "source": [
    "Prediction: \n",
    "\n",
    "Too hard?"
   ]
  },
  {
   "cell_type": "markdown",
   "metadata": {
    "collapsed": true
   },
   "source": [
    "## Conlusion"
   ]
  },
  {
   "cell_type": "markdown",
   "metadata": {
    "collapsed": false,
    "scrolled": true
   },
   "source": [
    "## Discussion"
   ]
  }
 ],
 "metadata": {
  "anaconda-cloud": {},
  "kernelspec": {
   "display_name": "Python [default]",
   "language": "python",
   "name": "python2"
  },
  "language_info": {
   "codemirror_mode": {
    "name": "ipython",
    "version": 2
   },
   "file_extension": ".py",
   "mimetype": "text/x-python",
   "name": "python",
   "nbconvert_exporter": "python",
   "pygments_lexer": "ipython2",
   "version": "2.7.12"
  }
 },
 "nbformat": 4,
 "nbformat_minor": 1
}
